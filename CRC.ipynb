{
  "nbformat": 4,
  "nbformat_minor": 0,
  "metadata": {
    "colab": {
      "provenance": []
    },
    "kernelspec": {
      "name": "python3",
      "display_name": "Python 3"
    },
    "language_info": {
      "name": "python"
    }
  },
  "cells": [
    {
      "cell_type": "code",
      "source": [
        "def crc_generator(data, generator):\n",
        "    data = data + '0' * (len(generator) - 1)\n",
        "    data = list(data)\n",
        "    generator = list(generator)\n",
        "\n",
        "    for i in range(len(data) - len(generator) + 1):\n",
        "        if data[i] == '1':\n",
        "            for j in range(len(generator)):\n",
        "                data[i + j] = '1' if data[i + j] != generator[j] else '0'\n",
        "\n",
        "    crc_checksum = ''.join(data[-len(generator) + 1:])\n",
        "    return crc_checksum\n",
        "\n",
        "def crc_checker(data, generator):\n",
        "\n",
        "    data = data + '0' * (len(generator) - 1)\n",
        "    crc_checksum = crc_generator(data, generator)\n",
        "\n",
        "    if crc_checksum == '0' * (len(generator) - 1):\n",
        "        return \"No error detected. Data is valid.\"\n",
        "    else:\n",
        "        return \"Error detected. Data is corrupted.\"\n",
        "\n",
        "data_sequence = '1101011011'\n",
        "generator = '10011'\n",
        "\n",
        "crc_checksum = crc_generator(data_sequence, generator)\n",
        "print(\"CRC Checksum:\", crc_checksum)\n",
        "\n",
        "result = crc_checker(data_sequence + crc_checksum, generator)\n",
        "print(result)\n"
      ],
      "metadata": {
        "id": "0mDaMItCNRRa",
        "colab": {
          "base_uri": "https://localhost:8080/"
        },
        "outputId": "38b38529-b54a-42f4-d925-30260298bf76"
      },
      "execution_count": null,
      "outputs": [
        {
          "output_type": "stream",
          "name": "stdout",
          "text": [
            "CRC Checksum: 1110\n",
            "No error detected. Data is valid.\n"
          ]
        }
      ]
    }
  ]
}